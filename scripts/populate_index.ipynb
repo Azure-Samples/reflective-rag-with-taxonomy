{
 "cells": [
  {
   "cell_type": "markdown",
   "metadata": {},
   "source": [
    "<div align=\"center\">\n",
    "    <h1>Populating the Index</h1>\n",
    "</div>"
   ]
  },
  {
   "cell_type": "markdown",
   "metadata": {},
   "source": [
    "**Get Started**"
   ]
  },
  {
   "cell_type": "code",
   "execution_count": null,
   "metadata": {},
   "outputs": [],
   "source": [
    "!pip install -r ../requirements.txt"
   ]
  },
  {
   "cell_type": "code",
   "execution_count": null,
   "metadata": {},
   "outputs": [],
   "source": [
    "import os\n",
    "from azure.core.credentials import AzureKeyCredential\n",
    "from azure.search.documents import SearchClient\n",
    "from dotenv import load_dotenv \n",
    "from langchain_openai import AzureChatOpenAI, AzureOpenAIEmbeddings\n",
    "import json \n",
    "import random\n",
    "import string\n",
    "from datetime import datetime, timezone\n",
    "\n",
    "load_dotenv()"
   ]
  },
  {
   "cell_type": "markdown",
   "metadata": {},
   "source": [
    "**Create the Client Connections**"
   ]
  },
  {
   "cell_type": "code",
   "execution_count": null,
   "metadata": {},
   "outputs": [],
   "source": [
    "# Get the service endpoint and API key from the environment\n",
    "endpoint = os.environ[\"AZURE_SEARCH_ENDPOINT\"]\n",
    "key = os.environ[\"AZURE_SEARCH_KEY\"]\n",
    "index_name = \"pwc-cw\"\n",
    "# Create a client\n",
    "credential = AzureKeyCredential(key)\n",
    "client = SearchClient(endpoint=endpoint,\n",
    "                      index_name=index_name,\n",
    "                      credential=credential)\n",
    "\n",
    "aoai_endpoint = os.environ.get(\"AOAI_ENDPOINT\")\n",
    "aoai_key = os.environ.get(\"AOAI_KEY\")\n",
    "\n",
    "embeddings_model = AzureOpenAIEmbeddings(\n",
    "    azure_deployment=\"text-embedding-3-large\",\n",
    "    api_key=aoai_key,\n",
    "    azure_endpoint=aoai_endpoint\n",
    ")"
   ]
  },
  {
   "cell_type": "markdown",
   "metadata": {},
   "source": [
    "**Load the Data Using the JSON File**"
   ]
  },
  {
   "cell_type": "code",
   "execution_count": null,
   "metadata": {},
   "outputs": [],
   "source": [
    "with open('Chunked Output v1.json', 'r', encoding='utf-8') as file:\n",
    "    data = json.load(file)"
   ]
  },
  {
   "cell_type": "code",
   "execution_count": null,
   "metadata": {},
   "outputs": [],
   "source": [
    "for document in data:\n",
    "    new_document = {\n",
    "        \"id\": ''.join(random.choices(string.ascii_letters + string.digits, k=10)),\n",
    "        \"source_file\": document[\"doc_name\"],\n",
    "        \"content\": document[\"chunk_text\"],\n",
    "        \"content_vector\": embeddings_model.embed_query(document[\"chunk_text\"]),\n",
    "        \"created_date\": datetime.now(timezone.utc).isoformat(),\n",
    "    }\n",
    "    \n",
    "    # Upload the document to the index\n",
    "    client.upload_documents(documents=[new_document])"
   ]
  },
  {
   "cell_type": "code",
   "execution_count": null,
   "metadata": {},
   "outputs": [],
   "source": [
    "results = client.search(search_text=\"*\", top=5)"
   ]
  },
  {
   "cell_type": "code",
   "execution_count": null,
   "metadata": {},
   "outputs": [],
   "source": [
    "for document in results:\n",
    "    print(document)"
   ]
  }
 ],
 "metadata": {
  "kernelspec": {
   "display_name": "Python 3",
   "language": "python",
   "name": "python3"
  },
  "language_info": {
   "codemirror_mode": {
    "name": "ipython",
    "version": 3
   },
   "file_extension": ".py",
   "mimetype": "text/x-python",
   "name": "python",
   "nbconvert_exporter": "python",
   "pygments_lexer": "ipython3",
   "version": "3.13.2"
  }
 },
 "nbformat": 4,
 "nbformat_minor": 2
}
